{
 "cells": [
  {
   "cell_type": "code",
   "execution_count": 5,
   "id": "aae38283",
   "metadata": {},
   "outputs": [
    {
     "name": "stdout",
     "output_type": "stream",
     "text": [
      "RGB\n",
      "Listo :D\n"
     ]
    }
   ],
   "source": [
    "import numpy\n",
    "import random\n",
    "import cv2\n",
    "\n",
    "from PIL import Image\n",
    "from numpy import array\n",
    "\n",
    "#imagen = Image.new('RGB', [1280, 720], (0, 0, 0))\n",
    "\n",
    "imagen = Image.open(\"juan.png\").convert('RGB')\n",
    "print(imagen.mode)\n",
    "imagen = numpy.array(imagen)\n",
    "\n",
    "value = []\n",
    "for x in imagen:\n",
    "    for y in range(0, int(len(x)/3)):\n",
    "        R = int(46*numpy.log(x[y][0]+1))\n",
    "        G = int(x[y][1])\n",
    "        B = int(x[y][2])\n",
    "        #R = int(x[y][0])\n",
    "        #B = int(numpy.power(x[y][1],2)/255)\n",
    "        #G = int(numpy.power(x[y][2],2)/255)\n",
    "        temp = [R, \n",
    "                G, \n",
    "                B]\n",
    "        b = numpy.array(temp)\n",
    "        x[y] = b\n",
    "        value.append(temp)\n",
    "for x in imagen:\n",
    "    for y in range(int(len(x)/3),int(len(x)*2/3)):\n",
    "        R = int(x[y][0])\n",
    "        G = int(46*numpy.log(x[y][1]+1))\n",
    "        B = int(x[y][2])\n",
    "        temp = [R, \n",
    "                G, \n",
    "                B]\n",
    "        b = numpy.array(temp)\n",
    "        x[y] = b\n",
    "        value.append(temp)\n",
    "for x in imagen:\n",
    "    for y in range(int(len(x)*2/3),int(len(x))):\n",
    "        R = int(x[y][0])\n",
    "        G = int(x[y][1])\n",
    "        B = int(46*numpy.log(x[y][2]+1))\n",
    "        temp = [R, \n",
    "                G, \n",
    "                B]\n",
    "        b = numpy.array(temp)\n",
    "        x[y] = b\n",
    "        value.append(temp)\n",
    "        \n",
    "imagen = Image.fromarray(imagen)\n",
    "imagen.show()\n",
    "\n",
    "print(\"Listo :D\")\n",
    "\n"
   ]
  }
 ],
 "metadata": {
  "kernelspec": {
   "display_name": "Python 3 (ipykernel)",
   "language": "python",
   "name": "python3"
  },
  "language_info": {
   "codemirror_mode": {
    "name": "ipython",
    "version": 3
   },
   "file_extension": ".py",
   "mimetype": "text/x-python",
   "name": "python",
   "nbconvert_exporter": "python",
   "pygments_lexer": "ipython3",
   "version": "3.9.12"
  }
 },
 "nbformat": 4,
 "nbformat_minor": 5
}
